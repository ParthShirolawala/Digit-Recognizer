{
 "cells": [
  {
   "cell_type": "code",
   "execution_count": 6,
   "metadata": {},
   "outputs": [],
   "source": [
    "import tensorflow as tf\n",
    "import matplotlib.pyplot as plt\n",
    "import numpy as np\n",
    "from sklearn.metrics import confusion_matrix\n",
    "import time\n",
    "from datetime import timedelta\n",
    "import math"
   ]
  },
  {
   "cell_type": "code",
   "execution_count": 7,
   "metadata": {},
   "outputs": [],
   "source": [
    "#Defining the first layer of convolution\n",
    "filterSize1 = 5\n",
    "numFilter1 = 16\n",
    "\n",
    "#Defining the second layer of convolution\n",
    "filterSize2 = 5\n",
    "numFilter2 = 36\n",
    "\n",
    "#fullyconnected layer\n",
    "fc_size = 128"
   ]
  },
  {
   "cell_type": "code",
   "execution_count": 8,
   "metadata": {},
   "outputs": [],
   "source": [
    "from mnist import MNIST\n",
    "data = MNIST(data_dir=\"data/MNIST/\")\n"
   ]
  },
  {
   "cell_type": "code",
   "execution_count": 9,
   "metadata": {},
   "outputs": [
    {
     "name": "stdout",
     "output_type": "stream",
     "text": [
      "Images in Training set =\n"
     ]
    }
   ],
   "source": [
    "print(\"Images in Training set =\".format(data.num_train))"
   ]
  },
  {
   "cell_type": "code",
   "execution_count": 10,
   "metadata": {},
   "outputs": [
    {
     "data": {
      "text/plain": [
       "55000"
      ]
     },
     "execution_count": 10,
     "metadata": {},
     "output_type": "execute_result"
    }
   ],
   "source": [
    "data.num_train\n"
   ]
  },
  {
   "cell_type": "code",
   "execution_count": 11,
   "metadata": {},
   "outputs": [
    {
     "data": {
      "text/plain": [
       "5000"
      ]
     },
     "execution_count": 11,
     "metadata": {},
     "output_type": "execute_result"
    }
   ],
   "source": [
    "data.num_val"
   ]
  },
  {
   "cell_type": "code",
   "execution_count": 12,
   "metadata": {},
   "outputs": [
    {
     "data": {
      "text/plain": [
       "10000"
      ]
     },
     "execution_count": 12,
     "metadata": {},
     "output_type": "execute_result"
    }
   ],
   "source": [
    "data.num_test"
   ]
  },
  {
   "cell_type": "code",
   "execution_count": 13,
   "metadata": {},
   "outputs": [
    {
     "data": {
      "text/plain": [
       "28"
      ]
     },
     "execution_count": 13,
     "metadata": {},
     "output_type": "execute_result"
    }
   ],
   "source": [
    "data.img_size\n"
   ]
  },
  {
   "cell_type": "code",
   "execution_count": 14,
   "metadata": {},
   "outputs": [
    {
     "data": {
      "text/plain": [
       "784"
      ]
     },
     "execution_count": 14,
     "metadata": {},
     "output_type": "execute_result"
    }
   ],
   "source": [
    "data.img_size_flat"
   ]
  },
  {
   "cell_type": "code",
   "execution_count": 15,
   "metadata": {},
   "outputs": [
    {
     "data": {
      "text/plain": [
       "(28, 28)"
      ]
     },
     "execution_count": 15,
     "metadata": {},
     "output_type": "execute_result"
    }
   ],
   "source": [
    "data.img_shape\n"
   ]
  },
  {
   "cell_type": "code",
   "execution_count": 16,
   "metadata": {},
   "outputs": [],
   "source": [
    "#no of pixel in image in each dimension\n",
    "img_size = data.img_size\n",
    "\n",
    "#to get 2D into 1D array, images are stored in one dimensional array of this length\n",
    "img_size_flat = data.img_size_flat\n",
    "\n",
    "#for reshaping arrays the length on each dimension is taken into a tuple\n",
    "img_shape = data.img_shape\n",
    "\n",
    "#total number of classes that is 0-9 (10 classes)\n",
    "num_classes = data.num_classes\n",
    "\n",
    "#number of colour channels for images:\n",
    "num_channels = data.num_channels\n",
    "#print(num_channels)"
   ]
  },
  {
   "cell_type": "code",
   "execution_count": 17,
   "metadata": {},
   "outputs": [],
   "source": [
    "def plot_images(images, cls_true, cls_pred = None):\n",
    "    assert len(images) == len(cls_true) == 9\n",
    "    \n",
    "    #creating a figure with 3*3 sub plots\n",
    "    fig, axes = plt.subplots(3,3)\n",
    "    fig.subplots_adjust(hspace = 0.3, wspace = 0.3)\n",
    "    \n",
    "    for i, ax in enumerate(axes.flat):\n",
    "        ax.imshow(images[i].reshape(img_shape), cmap = 'binary')\n",
    "        \n",
    "        if cls_pred is None:\n",
    "            xlabel = \"True: {0}\".format(cls_true[i])\n",
    "        else:\n",
    "            xlabel = \"True: {0}, Pred: {1}\".format(cls_true[i], cls_pred[i])\n",
    "        \n",
    "        ax.set_xlabel(xlabel)\n",
    "        \n",
    "        ax.set_xticks([])\n",
    "        ax.set_yticks([])\n",
    "        \n",
    "    plt.show()\n"
   ]
  },
  {
   "cell_type": "code",
   "execution_count": 18,
   "metadata": {
    "scrolled": true
   },
   "outputs": [
    {
     "data": {
      "image/png": "[encoded data removed]",
      "text/plain": [
       "<Figure size 432x288 with 9 Axes>"
      ]
     },
     "metadata": {},
     "output_type": "display_data"
    }
   ],
   "source": [
    "#fetching images from test data sets\n",
    "images = data.x_test[0:9]\n",
    "cls_true = data.y_test_cls[0:9]\n",
    "plot_images(images = images, cls_true = cls_true)"
   ]
  },
  {
   "cell_type": "code",
   "execution_count": 19,
   "metadata": {},
   "outputs": [],
   "source": [
    "def new_weights(shape):\n",
    "    return tf.Variable(tf.truncated_normal(shape,stddev = 0.05))"
   ]
  },
  {
   "cell_type": "code",
   "execution_count": 20,
   "metadata": {},
   "outputs": [],
   "source": [
    "def new_biases(length):\n",
    "    return tf.Variable(tf.constant(0.05, shape = [length]))"
   ]
  },
  {
   "cell_type": "code",
   "execution_count": 21,
   "metadata": {},
   "outputs": [],
   "source": [
    "def new_conv_layer(input, num_input_channels, filter_size, \n",
    "                  num_filters, use_pooling = True):\n",
    "    shape = [filter_size, filter_size, num_input_channels, num_filters]\n",
    "    weights = new_weights(shape = shape)\n",
    "    biases = new_biases(length = num_filters)\n",
    "    layer = tf.nn.conv2d(input = input,\n",
    "                        filter = weights,\n",
    "                        strides = [1,1,1,1],\n",
    "                        padding = 'SAME')\n",
    "    \n",
    "    layer += biases\n",
    "    \n",
    "    if use_pooling:\n",
    "        layer = tf.nn.max_pool(value=layer,\n",
    "                              ksize = [1,2,2,1],\n",
    "                              strides = [1,2,2,1],\n",
    "                              padding = 'SAME')\n",
    "        \n",
    "    #Rectified Linear Unit\n",
    "    \n",
    "    layer = tf.nn.relu(layer)\n",
    "    return layer, weights"
   ]
  },
  {
   "cell_type": "code",
   "execution_count": 22,
   "metadata": {},
   "outputs": [],
   "source": [
    "def flatten_layer(layer):\n",
    "    #to get the shape of input layer\n",
    "    layer_shape = layer.get_shape()\n",
    "    num_features = layer_shape[1:4].num_elements()\n",
    "    layer_flat = tf.reshape(layer, [-1, num_features])\n",
    "    return layer_flat, num_features\n",
    "    "
   ]
  },
  {
   "cell_type": "code",
   "execution_count": 23,
   "metadata": {},
   "outputs": [],
   "source": [
    "def new_fc_layer(input, num_inputs, num_outputs, use_relu = True):\n",
    "    weights  = new_weights(shape = [num_inputs, num_outputs])\n",
    "    biases = new_biases(length = num_outputs)\n",
    "    \n",
    "    layer = tf.matmul(input, weights) + biases\n",
    "    \n",
    "    if use_relu:\n",
    "        layer = tf.nn.relu(layer)\n",
    "    \n",
    "    return layer"
   ]
  },
  {
   "cell_type": "code",
   "execution_count": 24,
   "metadata": {},
   "outputs": [],
   "source": [
    "x = tf.placeholder(tf.float32, shape=[None, img_size_flat], name='x')\n"
   ]
  },
  {
   "cell_type": "code",
   "execution_count": 25,
   "metadata": {},
   "outputs": [],
   "source": [
    "x_image = tf.reshape(x, [-1, img_size, img_size, num_channels])"
   ]
  },
  {
   "cell_type": "code",
   "execution_count": 26,
   "metadata": {},
   "outputs": [],
   "source": [
    "y_true = tf.placeholder(tf.float32, shape=[None, num_classes], name='y_true')"
   ]
  },
  {
   "cell_type": "code",
   "execution_count": 27,
   "metadata": {},
   "outputs": [],
   "source": [
    "y_true_cls = tf.argmax(y_true, axis=1)"
   ]
  },
  {
   "cell_type": "code",
   "execution_count": 28,
   "metadata": {},
   "outputs": [
    {
     "name": "stdout",
     "output_type": "stream",
     "text": [
      "WARNING:tensorflow:From D:\\Softwares\\lib\\site-packages\\tensorflow\\python\\framework\\op_def_library.py:263: colocate_with (from tensorflow.python.framework.ops) is deprecated and will be removed in a future version.\n",
      "Instructions for updating:\n",
      "Colocations handled automatically by placer.\n"
     ]
    }
   ],
   "source": [
    "#Convolutional Layer 1\n",
    "layer_conv1, weights_conv1 = \\\n",
    "    new_conv_layer(input = x_image,\n",
    "                  num_input_channels = num_channels,\n",
    "                  filter_size = filterSize1,\n",
    "                  num_filters = numFilter1,\n",
    "                  use_pooling = True)"
   ]
  },
  {
   "cell_type": "code",
   "execution_count": 29,
   "metadata": {},
   "outputs": [
    {
     "data": {
      "text/plain": [
       "<tf.Tensor 'Relu:0' shape=(?, 14, 14, 16) dtype=float32>"
      ]
     },
     "execution_count": 29,
     "metadata": {},
     "output_type": "execute_result"
    }
   ],
   "source": [
    "layer_conv1\n"
   ]
  },
  {
   "cell_type": "code",
   "execution_count": 30,
   "metadata": {},
   "outputs": [
    {
     "data": {
      "text/plain": [
       "<tf.Variable 'Variable:0' shape=(5, 5, 1, 16) dtype=float32_ref>"
      ]
     },
     "execution_count": 30,
     "metadata": {},
     "output_type": "execute_result"
    }
   ],
   "source": [
    "weights_conv1"
   ]
  },
  {
   "cell_type": "code",
   "execution_count": 31,
   "metadata": {},
   "outputs": [],
   "source": [
    "#Convolutional Layer 2\n",
    "layer_conv2, weights_conv2 = \\\n",
    "    new_conv_layer(input = layer_conv1,\n",
    "                   num_input_channels = numFilter1,\n",
    "                   filter_size = filterSize2,\n",
    "                   num_filters = numFilter2,\n",
    "                   use_pooling = True)"
   ]
  },
  {
   "cell_type": "code",
   "execution_count": 32,
   "metadata": {},
   "outputs": [
    {
     "data": {
      "text/plain": [
       "<tf.Tensor 'Relu_1:0' shape=(?, 7, 7, 36) dtype=float32>"
      ]
     },
     "execution_count": 32,
     "metadata": {},
     "output_type": "execute_result"
    }
   ],
   "source": [
    "layer_conv2\n"
   ]
  },
  {
   "cell_type": "code",
   "execution_count": 33,
   "metadata": {},
   "outputs": [
    {
     "data": {
      "text/plain": [
       "<tf.Variable 'Variable_2:0' shape=(5, 5, 16, 36) dtype=float32_ref>"
      ]
     },
     "execution_count": 33,
     "metadata": {},
     "output_type": "execute_result"
    }
   ],
   "source": [
    "weights_conv2"
   ]
  },
  {
   "cell_type": "code",
   "execution_count": 34,
   "metadata": {},
   "outputs": [],
   "source": [
    "#Making a Flatten Layer\n",
    "\n",
    "layer_flat, num_features = flatten_layer(layer_conv2)"
   ]
  },
  {
   "cell_type": "code",
   "execution_count": 35,
   "metadata": {},
   "outputs": [
    {
     "data": {
      "text/plain": [
       "<tf.Tensor 'Reshape_1:0' shape=(?, 1764) dtype=float32>"
      ]
     },
     "execution_count": 35,
     "metadata": {},
     "output_type": "execute_result"
    }
   ],
   "source": [
    "layer_flat"
   ]
  },
  {
   "cell_type": "code",
   "execution_count": 36,
   "metadata": {},
   "outputs": [
    {
     "data": {
      "text/plain": [
       "1764"
      ]
     },
     "execution_count": 36,
     "metadata": {},
     "output_type": "execute_result"
    }
   ],
   "source": [
    "num_features"
   ]
  },
  {
   "cell_type": "code",
   "execution_count": 37,
   "metadata": {},
   "outputs": [],
   "source": [
    "#Making a Fully Connected Layer -1\n",
    "layer_fc1 = new_fc_layer(input = layer_flat,\n",
    "                        num_inputs = num_features,\n",
    "                        num_outputs = fc_size,\n",
    "                        use_relu = True)"
   ]
  },
  {
   "cell_type": "code",
   "execution_count": 38,
   "metadata": {},
   "outputs": [
    {
     "data": {
      "text/plain": [
       "<tf.Tensor 'Relu_2:0' shape=(?, 128) dtype=float32>"
      ]
     },
     "execution_count": 38,
     "metadata": {},
     "output_type": "execute_result"
    }
   ],
   "source": [
    "layer_fc1\n"
   ]
  },
  {
   "cell_type": "code",
   "execution_count": 39,
   "metadata": {},
   "outputs": [],
   "source": [
    "#Making a Fully Connected Layer - 2\n",
    "layer_fc2 = new_fc_layer(input = layer_fc1,\n",
    "                        num_inputs = fc_size,\n",
    "                         num_outputs = num_classes,\n",
    "                         use_relu = False)"
   ]
  },
  {
   "cell_type": "code",
   "execution_count": 40,
   "metadata": {},
   "outputs": [
    {
     "data": {
      "text/plain": [
       "<tf.Tensor 'add_3:0' shape=(?, 10) dtype=float32>"
      ]
     },
     "execution_count": 40,
     "metadata": {},
     "output_type": "execute_result"
    }
   ],
   "source": [
    "layer_fc2\n"
   ]
  },
  {
   "cell_type": "code",
   "execution_count": 41,
   "metadata": {},
   "outputs": [],
   "source": [
    "y_pred = tf.nn.softmax(layer_fc2)"
   ]
  },
  {
   "cell_type": "code",
   "execution_count": 42,
   "metadata": {},
   "outputs": [
    {
     "data": {
      "text/plain": [
       "<tf.Tensor 'Softmax:0' shape=(?, 10) dtype=float32>"
      ]
     },
     "execution_count": 42,
     "metadata": {},
     "output_type": "execute_result"
    }
   ],
   "source": [
    "y_pred"
   ]
  },
  {
   "cell_type": "code",
   "execution_count": 43,
   "metadata": {},
   "outputs": [],
   "source": [
    "y_pred_cls = tf.argmax(y_pred, axis = 1)"
   ]
  },
  {
   "cell_type": "code",
   "execution_count": 44,
   "metadata": {},
   "outputs": [
    {
     "data": {
      "text/plain": [
       "<tf.Tensor 'ArgMax_1:0' shape=(?,) dtype=int64>"
      ]
     },
     "execution_count": 44,
     "metadata": {},
     "output_type": "execute_result"
    }
   ],
   "source": [
    "y_pred_cls "
   ]
  },
  {
   "cell_type": "code",
   "execution_count": 45,
   "metadata": {},
   "outputs": [
    {
     "name": "stdout",
     "output_type": "stream",
     "text": [
      "WARNING:tensorflow:From <ipython-input-45-286d54ccc4be>:4: softmax_cross_entropy_with_logits (from tensorflow.python.ops.nn_ops) is deprecated and will be removed in a future version.\n",
      "Instructions for updating:\n",
      "\n",
      "Future major versions of TensorFlow will allow gradients to flow\n",
      "into the labels input on backprop by default.\n",
      "\n",
      "See `tf.nn.softmax_cross_entropy_with_logits_v2`.\n",
      "\n"
     ]
    }
   ],
   "source": [
    "#optimizing the cost function\n",
    "#the goal is to reduce the cross entropy and make it as close to 0 by changing the variable of the network.\n",
    "\n",
    "cross_entropy = tf.nn.softmax_cross_entropy_with_logits(logits = layer_fc2, labels = y_true)"
   ]
  },
  {
   "cell_type": "code",
   "execution_count": 46,
   "metadata": {},
   "outputs": [],
   "source": [
    "cost = tf.reduce_mean(cross_entropy)"
   ]
  },
  {
   "cell_type": "code",
   "execution_count": 47,
   "metadata": {},
   "outputs": [],
   "source": [
    "#now the we have the cost and we have to minimize the cost to optimize the model. \n",
    "# I will use AdamOptimizer which is an advance form of Gradient descent.\n",
    "\n",
    "optimizer = tf.train.AdamOptimizer(learning_rate = 1e-4).minimize(cost)"
   ]
  },
  {
   "cell_type": "code",
   "execution_count": 48,
   "metadata": {},
   "outputs": [],
   "source": [
    "correct_prediction = tf.equal(y_pred_cls, y_true_cls)"
   ]
  },
  {
   "cell_type": "code",
   "execution_count": 49,
   "metadata": {},
   "outputs": [],
   "source": [
    "accuracy = tf.reduce_mean(tf.cast(correct_prediction, tf.float32))"
   ]
  },
  {
   "cell_type": "code",
   "execution_count": 50,
   "metadata": {},
   "outputs": [],
   "source": [
    "#Running the TensorFlow\n",
    "#First of all creating a session\n",
    "\n",
    "session = tf.Session()\n"
   ]
  },
  {
   "cell_type": "code",
   "execution_count": 51,
   "metadata": {},
   "outputs": [],
   "source": [
    "#declaring the variables for weights and biases before we optimize them\n",
    "\n",
    "session.run(tf.global_variables_initializer())"
   ]
  },
  {
   "cell_type": "code",
   "execution_count": 52,
   "metadata": {},
   "outputs": [],
   "source": [
    "train_batch_size = 64"
   ]
  },
  {
   "cell_type": "code",
   "execution_count": 63,
   "metadata": {},
   "outputs": [],
   "source": [
    "total_iterations = 0\n",
    "\n",
    "def optimize(num_iterations):\n",
    "    global total_iterations\n",
    "    start_time = time.time()\n",
    "    \n",
    "    for i in range(total_iterations, total_iterations+num_iterations):\n",
    "        #x_batch holds batch of images and y_true_batch holds the true labels for those images.\n",
    "        x_batch, y_true_batch, _=data.random_batch(batch_size = train_batch_size)\n",
    "        feed_dict_train = {x : x_batch, y_true : y_true_batch}\n",
    "        session.run(optimizer, feed_dict = feed_dict_train)\n",
    "        \n",
    "        if i%100 == 0:\n",
    "            acc = session.run(accuracy, feed_dict = feed_dict_train)\n",
    "            msg = \"Optimization Iteration : {0:>6}, Training Accuracy: {1:>6.1%}\"\n",
    "            print(msg.format(i+1, acc))\n",
    "            \n",
    "    total_iterations += num_iterations\n",
    "    end_time = time.time()\n",
    "    time_diff = end_time - start_time\n",
    "    print(\"Time Usage:\" + str(timedelta(seconds = int(round(time_diff)))))"
   ]
  },
  {
   "cell_type": "code",
   "execution_count": 68,
   "metadata": {},
   "outputs": [],
   "source": [
    "#cls_pred is an array of the predicted class-number for all images in the test-data\n",
    "#correct is a boolean array whether the predicted class is equal to the true class for each image in the test-set.\n",
    "def plot_example_errors(cls_pred, correct):\n",
    "    incorrect = (correct == False)\n",
    "    #getting images from test-dataset that have been classified incorrectly.\n",
    "    images = data.x_test[incorrect]\n",
    "    #get the predicted classes for those images\n",
    "    cls_pred = cls_pred[incorrect]\n",
    "    #get the true classes for those images\n",
    "    cls_true = data.y_test_cls[incorrect]\n",
    "    plot_images(images=images[0:9],\n",
    "               cls_true=cls_true[0:9],\n",
    "               cls_pred=cls_pred[0:9])\n",
    "    "
   ]
  },
  {
   "cell_type": "code",
   "execution_count": 55,
   "metadata": {},
   "outputs": [],
   "source": [
    "#function to plot confusion matrix\n",
    "\n",
    "def plot_confusion_matrix(cls_pred):\n",
    "    #getting the true classification for the test set.\n",
    "    cls_true = data.y_test_cls\n",
    "    cm = confusion_matrix(y_true = cls_true,\n",
    "                         y_pred = cls_pred)\n",
    "    print(cm)\n",
    "    plt.matshow(cm) #show confusion matrix as an image\n",
    "    plt.colorbar() #some adjustments to the plot\n",
    "    tick_marks = np.arange(num_classes)\n",
    "    plt.xticks(tick_marks, range(num_classes))\n",
    "    plt.yticks(tick_marks, range(num_classes))\n",
    "    plt.xlabel('Predicted')\n",
    "    plt.ylabel('True')\n",
    "    plt.show()\n",
    "    \n",
    "    "
   ]
  },
  {
   "cell_type": "code",
   "execution_count": 60,
   "metadata": {},
   "outputs": [],
   "source": [
    "#function for showing the performance of the model\n",
    "\n",
    "test_batch_size = 256\n",
    "\n",
    "def print_test_accuracy(show_example_errors = False,\n",
    "                       show_confusion_matrix = False):\n",
    "    num_test = data.num_test\n",
    "    #allocating an array for the predicted classes which will be calculated in batches and filled into this array.\n",
    "    cls_pred = np.zeros(shape = num_test, dtype = np.int)\n",
    "    \n",
    "    #now calculating the predicted classes for the batches.\n",
    "    \n",
    "    i = 0\n",
    "    while i<num_test:\n",
    "        j = min(i + test_batch_size, num_test)\n",
    "        #getting the images from the test-set between index i and j.\n",
    "        images = data.x_test[i:j, :]\n",
    "        #getting the associated labels:\n",
    "        labels = data.y_test[i:j, :]\n",
    "        #create a feed-dict with these images and labels\n",
    "        feed_dict = {x:images,\n",
    "                    y_true: labels}\n",
    "        cls_pred[i:j] = session.run(y_pred_cls, feed_dict = feed_dict)\n",
    "        \n",
    "        #set the start index of the next batch to the end index of the current batch.\n",
    "        \n",
    "        i = j\n",
    "    cls_true = data.y_test_cls\n",
    "    \n",
    "    correct = (cls_true == cls_pred)\n",
    "    \n",
    "    #calculating the number of correctly classified images.while summing the boolean array 0 mean false and 1 means true\n",
    "    correct_sum = correct.sum()\n",
    "    \n",
    "    #classification accuracy is the number of correctly classified images divided by the total number of images in the test set.\n",
    "    acc = float(correct_sum) / num_test\n",
    "    \n",
    "    msg = \"Accuracy on Test-set: {0:.1%} ({1} / {2})\"\n",
    "    print(msg.format(acc, correct_sum, num_test))\n",
    "    \n",
    "    if show_example_errors:\n",
    "        print(\"Example errors:\")\n",
    "        plot_example_errors(cls_pred = cls_pred, correct = correct)\n",
    "        \n",
    "    \n",
    "    if show_confusion_matrix:\n",
    "        print(\"Confusion Matrix:\")\n",
    "        plot_confusion_matrix(cls_pred = cls_pred)\n",
    "    \n",
    "        "
   ]
  },
  {
   "cell_type": "code",
   "execution_count": 61,
   "metadata": {},
   "outputs": [
    {
     "name": "stdout",
     "output_type": "stream",
     "text": [
      "Accuracy on Test-set: 13.8% (1379 / 10000)\n"
     ]
    }
   ],
   "source": [
    "#let's check the test accuracy without optimizing. Pretty sure that the accuracy will be very low.\n",
    "\n",
    "print_test_accuracy()\n"
   ]
  },
  {
   "cell_type": "code",
   "execution_count": 64,
   "metadata": {},
   "outputs": [
    {
     "name": "stdout",
     "output_type": "stream",
     "text": [
      "Optimization Iteration :      1, Training Accuracy:  20.3%\n",
      "Time Usage:0:00:01\n"
     ]
    }
   ],
   "source": [
    "#Now let's check with one optimization iteration\n",
    "\n",
    "optimize(num_iterations = 1)"
   ]
  },
  {
   "cell_type": "code",
   "execution_count": 65,
   "metadata": {},
   "outputs": [
    {
     "name": "stdout",
     "output_type": "stream",
     "text": [
      "Accuracy on Test-set: 14.5% (1453 / 10000)\n"
     ]
    }
   ],
   "source": [
    "print_test_accuracy()"
   ]
  },
  {
   "cell_type": "code",
   "execution_count": 66,
   "metadata": {},
   "outputs": [
    {
     "name": "stdout",
     "output_type": "stream",
     "text": [
      "Time Usage:0:00:10\n"
     ]
    }
   ],
   "source": [
    "#Now lets check with 100 optimization iterations\n",
    "\n",
    "optimize(num_iterations = 99)"
   ]
  },
  {
   "cell_type": "code",
   "execution_count": 69,
   "metadata": {},
   "outputs": [
    {
     "name": "stdout",
     "output_type": "stream",
     "text": [
      "Accuracy on Test-set: 60.8% (6081 / 10000)\n",
      "Example errors:\n"
     ]
    },
    {
     "data": {
      "image/png": "[encoded data removed]",
      "text/plain": [
       "<Figure size 432x288 with 9 Axes>"
      ]
     },
     "metadata": {},
     "output_type": "display_data"
    }
   ],
   "source": [
    "print_test_accuracy(show_example_errors = True)"
   ]
  },
  {
   "cell_type": "code",
   "execution_count": 70,
   "metadata": {},
   "outputs": [
    {
     "name": "stdout",
     "output_type": "stream",
     "text": [
      "Optimization Iteration :    101, Training Accuracy:  64.1%\n",
      "Optimization Iteration :    201, Training Accuracy:  85.9%\n",
      "Optimization Iteration :    301, Training Accuracy:  81.2%\n",
      "Optimization Iteration :    401, Training Accuracy:  85.9%\n",
      "Optimization Iteration :    501, Training Accuracy:  96.9%\n",
      "Optimization Iteration :    601, Training Accuracy:  93.8%\n",
      "Optimization Iteration :    701, Training Accuracy:  87.5%\n",
      "Optimization Iteration :    801, Training Accuracy:  87.5%\n",
      "Optimization Iteration :    901, Training Accuracy:  82.8%\n",
      "Time Usage:0:01:13\n"
     ]
    }
   ],
   "source": [
    "#lets try with 1000 optimization iterations\n",
    "\n",
    "optimize(num_iterations = 900)"
   ]
  },
  {
   "cell_type": "code",
   "execution_count": 71,
   "metadata": {},
   "outputs": [
    {
     "name": "stdout",
     "output_type": "stream",
     "text": [
      "Accuracy on Test-set: 93.2% (9315 / 10000)\n",
      "Example errors:\n"
     ]
    },
    {
     "data": {
      "image/png": "[encoded data removed]",
      "text/plain": [
       "<Figure size 432x288 with 9 Axes>"
      ]
     },
     "metadata": {},
     "output_type": "display_data"
    }
   ],
   "source": [
    "print_test_accuracy(show_example_errors = True)"
   ]
  },
  {
   "cell_type": "code",
   "execution_count": 72,
   "metadata": {},
   "outputs": [
    {
     "name": "stdout",
     "output_type": "stream",
     "text": [
      "Optimization Iteration :   1001, Training Accuracy:  90.6%\n",
      "Optimization Iteration :   1101, Training Accuracy:  93.8%\n",
      "Optimization Iteration :   1201, Training Accuracy:  98.4%\n",
      "Optimization Iteration :   1301, Training Accuracy:  93.8%\n",
      "Optimization Iteration :   1401, Training Accuracy:  96.9%\n",
      "Optimization Iteration :   1501, Training Accuracy:  92.2%\n",
      "Optimization Iteration :   1601, Training Accuracy:  98.4%\n",
      "Optimization Iteration :   1701, Training Accuracy:  90.6%\n",
      "Optimization Iteration :   1801, Training Accuracy:  95.3%\n",
      "Optimization Iteration :   1901, Training Accuracy:  93.8%\n",
      "Optimization Iteration :   2001, Training Accuracy:  95.3%\n",
      "Optimization Iteration :   2101, Training Accuracy:  98.4%\n",
      "Optimization Iteration :   2201, Training Accuracy:  98.4%\n",
      "Optimization Iteration :   2301, Training Accuracy:  98.4%\n",
      "Optimization Iteration :   2401, Training Accuracy:  93.8%\n",
      "Optimization Iteration :   2501, Training Accuracy:  93.8%\n",
      "Optimization Iteration :   2601, Training Accuracy:  95.3%\n",
      "Optimization Iteration :   2701, Training Accuracy:  96.9%\n",
      "Optimization Iteration :   2801, Training Accuracy:  98.4%\n",
      "Optimization Iteration :   2901, Training Accuracy:  96.9%\n",
      "Optimization Iteration :   3001, Training Accuracy:  98.4%\n",
      "Optimization Iteration :   3101, Training Accuracy:  95.3%\n",
      "Optimization Iteration :   3201, Training Accuracy:  96.9%\n",
      "Optimization Iteration :   3301, Training Accuracy:  96.9%\n",
      "Optimization Iteration :   3401, Training Accuracy:  96.9%\n",
      "Optimization Iteration :   3501, Training Accuracy: 100.0%\n",
      "Optimization Iteration :   3601, Training Accuracy:  98.4%\n",
      "Optimization Iteration :   3701, Training Accuracy:  98.4%\n",
      "Optimization Iteration :   3801, Training Accuracy:  96.9%\n",
      "Optimization Iteration :   3901, Training Accuracy:  96.9%\n",
      "Optimization Iteration :   4001, Training Accuracy:  96.9%\n",
      "Optimization Iteration :   4101, Training Accuracy:  95.3%\n",
      "Optimization Iteration :   4201, Training Accuracy: 100.0%\n",
      "Optimization Iteration :   4301, Training Accuracy:  98.4%\n",
      "Optimization Iteration :   4401, Training Accuracy: 100.0%\n",
      "Optimization Iteration :   4501, Training Accuracy: 100.0%\n",
      "Optimization Iteration :   4601, Training Accuracy:  96.9%\n",
      "Optimization Iteration :   4701, Training Accuracy:  96.9%\n",
      "Optimization Iteration :   4801, Training Accuracy:  98.4%\n",
      "Optimization Iteration :   4901, Training Accuracy:  95.3%\n",
      "Optimization Iteration :   5001, Training Accuracy:  98.4%\n",
      "Optimization Iteration :   5101, Training Accuracy: 100.0%\n",
      "Optimization Iteration :   5201, Training Accuracy: 100.0%\n",
      "Optimization Iteration :   5301, Training Accuracy: 100.0%\n",
      "Optimization Iteration :   5401, Training Accuracy:  98.4%\n",
      "Optimization Iteration :   5501, Training Accuracy: 100.0%\n",
      "Optimization Iteration :   5601, Training Accuracy:  98.4%\n",
      "Optimization Iteration :   5701, Training Accuracy:  95.3%\n",
      "Optimization Iteration :   5801, Training Accuracy: 100.0%\n",
      "Optimization Iteration :   5901, Training Accuracy:  98.4%\n",
      "Optimization Iteration :   6001, Training Accuracy:  98.4%\n",
      "Optimization Iteration :   6101, Training Accuracy:  98.4%\n",
      "Optimization Iteration :   6201, Training Accuracy:  98.4%\n",
      "Optimization Iteration :   6301, Training Accuracy:  96.9%\n",
      "Optimization Iteration :   6401, Training Accuracy: 100.0%\n",
      "Optimization Iteration :   6501, Training Accuracy:  95.3%\n",
      "Optimization Iteration :   6601, Training Accuracy:  93.8%\n",
      "Optimization Iteration :   6701, Training Accuracy:  98.4%\n",
      "Optimization Iteration :   6801, Training Accuracy:  98.4%\n",
      "Optimization Iteration :   6901, Training Accuracy:  98.4%\n",
      "Optimization Iteration :   7001, Training Accuracy: 100.0%\n",
      "Optimization Iteration :   7101, Training Accuracy: 100.0%\n",
      "Optimization Iteration :   7201, Training Accuracy: 100.0%\n",
      "Optimization Iteration :   7301, Training Accuracy: 100.0%\n",
      "Optimization Iteration :   7401, Training Accuracy: 100.0%\n",
      "Optimization Iteration :   7501, Training Accuracy:  96.9%\n",
      "Optimization Iteration :   7601, Training Accuracy: 100.0%\n",
      "Optimization Iteration :   7701, Training Accuracy:  92.2%\n",
      "Optimization Iteration :   7801, Training Accuracy: 100.0%\n",
      "Optimization Iteration :   7901, Training Accuracy: 100.0%\n",
      "Optimization Iteration :   8001, Training Accuracy: 100.0%\n",
      "Optimization Iteration :   8101, Training Accuracy:  98.4%\n",
      "Optimization Iteration :   8201, Training Accuracy: 100.0%\n",
      "Optimization Iteration :   8301, Training Accuracy:  98.4%\n",
      "Optimization Iteration :   8401, Training Accuracy:  96.9%\n",
      "Optimization Iteration :   8501, Training Accuracy:  98.4%\n",
      "Optimization Iteration :   8601, Training Accuracy:  96.9%\n",
      "Optimization Iteration :   8701, Training Accuracy:  98.4%\n",
      "Optimization Iteration :   8801, Training Accuracy:  98.4%\n",
      "Optimization Iteration :   8901, Training Accuracy: 100.0%\n",
      "Optimization Iteration :   9001, Training Accuracy:  98.4%\n",
      "Optimization Iteration :   9101, Training Accuracy:  98.4%\n",
      "Optimization Iteration :   9201, Training Accuracy:  98.4%\n",
      "Optimization Iteration :   9301, Training Accuracy: 100.0%\n",
      "Optimization Iteration :   9401, Training Accuracy: 100.0%\n",
      "Optimization Iteration :   9501, Training Accuracy:  95.3%\n",
      "Optimization Iteration :   9601, Training Accuracy: 100.0%\n",
      "Optimization Iteration :   9701, Training Accuracy:  98.4%\n",
      "Optimization Iteration :   9801, Training Accuracy:  98.4%\n",
      "Optimization Iteration :   9901, Training Accuracy:  98.4%\n",
      "Time Usage:0:14:29\n"
     ]
    }
   ],
   "source": [
    "#running 10000 optimization iterations\n",
    "\n",
    "optimize(num_iterations = 9000)"
   ]
  },
  {
   "cell_type": "code",
   "execution_count": 73,
   "metadata": {},
   "outputs": [
    {
     "name": "stdout",
     "output_type": "stream",
     "text": [
      "Accuracy on Test-set: 98.7% (9873 / 10000)\n",
      "Example errors:\n"
     ]
    },
    {
     "data": {
      "image/png": "[encoded data removed]",
      "text/plain": [
       "<Figure size 432x288 with 9 Axes>"
      ]
     },
     "metadata": {},
     "output_type": "display_data"
    },
    {
     "name": "stdout",
     "output_type": "stream",
     "text": [
      "Confusion Matrix:\n",
      "[[ 976    0    0    0    0    0    3    1    0    0]\n",
      " [   0 1129    1    0    1    0    2    1    1    0]\n",
      " [   2    4 1010    2    1    0    0    5    8    0]\n",
      " [   1    0    0 1002    0    4    0    1    2    0]\n",
      " [   0    2    1    0  977    0    1    1    0    0]\n",
      " [   2    1    0    3    0  884    2    0    0    0]\n",
      " [   3    3    0    0    4    6  942    0    0    0]\n",
      " [   0    3    6    2    0    0    0 1014    1    2]\n",
      " [   3    1    1    2    1    1    0    2  963    0]\n",
      " [   4    5    0    1    9    3    0    5    6  976]]\n"
     ]
    },
    {
     "data": {
      "image/png": "[encoded data removed]",
      "text/plain": [
       "<Figure size 288x288 with 2 Axes>"
      ]
     },
     "metadata": {
      "needs_background": "light"
     },
     "output_type": "display_data"
    }
   ],
   "source": [
    "print_test_accuracy(show_example_errors = True,\n",
    "                   show_confusion_matrix = True)"
   ]
  },
  {
   "cell_type": "code",
   "execution_count": null,
   "metadata": {},
   "outputs": [],
   "source": []
  }
 ],
 "metadata": {
  "kernelspec": {
   "display_name": "Python 3",
   "language": "python",
   "name": "python3"
  },
  "language_info": {
   "codemirror_mode": {
    "name": "ipython",
    "version": 3
   },
   "file_extension": ".py",
   "mimetype": "text/x-python",
   "name": "python",
   "nbconvert_exporter": "python",
   "pygments_lexer": "ipython3",
   "version": "3.7.3"
  }
 },
 "nbformat": 4,
 "nbformat_minor": 2
}
